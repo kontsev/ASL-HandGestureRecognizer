{
 "cells": [
  {
   "cell_type": "code",
   "execution_count": 2,
   "id": "3057bf7e-8243-4ea7-82c2-9990ba2dd6db",
   "metadata": {
    "execution": {
     "iopub.execute_input": "2024-06-03T13:47:35.262341Z",
     "iopub.status.busy": "2024-06-03T13:47:35.261727Z",
     "iopub.status.idle": "2024-06-03T13:47:35.293264Z",
     "shell.execute_reply": "2024-06-03T13:47:35.292361Z",
     "shell.execute_reply.started": "2024-06-03T13:47:35.262305Z"
    },
    "tags": []
   },
   "outputs": [],
   "source": [
    "import torch\n",
    "from torch import nn\n",
    "import torchvision.transforms as T\n",
    "from torch.utils.data import Dataset, DataLoader\n",
    "\n",
    "import os\n",
    "import shutil\n",
    "from PIL import Image\n",
    "from sklearn.model_selection import train_test_split\n",
    "from tqdm.notebook import tqdm\n",
    "\n",
    "PATH = 'data/datasets/unzipped_dataset/dataset5/'\n",
    "SIGNERS = ['A', 'B', 'C', 'D', 'E']"
   ]
  },
  {
   "cell_type": "code",
   "execution_count": 3,
   "id": "32c2b773-80dc-439a-affc-3ca5ac8050e2",
   "metadata": {
    "execution": {
     "iopub.execute_input": "2024-06-03T13:47:41.335959Z",
     "iopub.status.busy": "2024-06-03T13:47:41.334703Z",
     "iopub.status.idle": "2024-06-03T13:47:41.384200Z",
     "shell.execute_reply": "2024-06-03T13:47:41.383321Z",
     "shell.execute_reply.started": "2024-06-03T13:47:41.335915Z"
    },
    "tags": []
   },
   "outputs": [],
   "source": [
    "class HandGestureDataset(Dataset):\n",
    "    SPLIT_RANDOM_SEED = 42\n",
    "    TEST_SIZE = 0.25\n",
    "\n",
    "    def __init__(self, root, signers_list, train=True, load_to_ram=True, transform=None):\n",
    "        super().__init__()\n",
    "        self.root = root\n",
    "        self.signers_list = signers_list\n",
    "        self.train = train\n",
    "        self.load_to_ram = load_to_ram\n",
    "        self.transform = transform\n",
    "        self.to_tensor = T.ToTensor()\n",
    "        self.all_files = []\n",
    "        self.all_labels = []\n",
    "        self.images = []\n",
    "\n",
    "        self.classes = sorted(os.listdir(self.root + self.signers_list[0]))\n",
    "        for signer in self.signers_list:\n",
    "            for i, class_name in tqdm(enumerate(self.classes), total=len(self.classes)):\n",
    "                class_path = os.path.join(self.root, signer, class_name)\n",
    "                files = sorted(os.listdir(class_path))\n",
    "                files = [f for f in files if os.path.isfile(os.path.join(class_path, f))]\n",
    "                train_files, test_files = train_test_split(files, random_state=self.SPLIT_RANDOM_SEED + i,\n",
    "                                                           test_size=self.TEST_SIZE, shuffle=True)\n",
    "                if self.train:\n",
    "                    if self.load_to_ram:\n",
    "                        self.images += self._load_images(signer, train_files, i)\n",
    "                    self.all_files += train_files\n",
    "                    self.all_labels += [i] * len(train_files)\n",
    "\n",
    "                else:\n",
    "                    if self.load_to_ram:\n",
    "                        self.images += self._load_images(signer, test_files, i)\n",
    "                    self.all_files += test_files\n",
    "                    self.all_labels += [i] * len(test_files)\n",
    "\n",
    "    def _load_images(self, signer, image_files, label):\n",
    "        images = []\n",
    "        for filename in image_files:\n",
    "            image_path = os.path.join(self.root + signer, self.classes[label], filename)\n",
    "            if os.path.isfile(image_path):\n",
    "                image = Image.open(image_path).convert('RGB')\n",
    "                images.append(image)\n",
    "        return images\n",
    "\n",
    "    def __len__(self):\n",
    "        return len(self.all_files)\n",
    "    \n",
    "    def get_all_files(self):\n",
    "        return self.all_files, self.images\n",
    "\n",
    "    def __getitem__(self, item):\n",
    "        label = self.all_labels[item]\n",
    "        if self.load_to_ram:\n",
    "            image = self.images[item]\n",
    "        else:\n",
    "            filename = self.all_files[item]\n",
    "            signer = self.find_file(self.classes[label], filename)\n",
    "            image = Image.open(os.path.join(self.root + signer, self.classes[label], filename)).convert('RGB')\n",
    "            # print(signer, filename, self.classes[label])\n",
    "\n",
    "        if self.transform is not None:\n",
    "            image = self.transform(image)\n",
    "\n",
    "        return image, label\n",
    "    \n",
    "    def find_file(self, target_folder, target_file):\n",
    "        \"\"\"\n",
    "        Ищет файл с именем target_file в поддиректориях target_folder внутри root.\n",
    "        Возвращает путь к файлу и название папки, если он найден, иначе None и пустую строку.\n",
    "        \"\"\"\n",
    "        for root_dir in self.signers_list:\n",
    "            root_path = os.path.join(self.root, root_dir)\n",
    "            for dirpath, dirnames, filenames in os.walk(root_path):\n",
    "                if os.path.basename(dirpath) == target_folder and target_file in filenames:\n",
    "                    return root_dir\n",
    "        return None, \"\""
   ]
  },
  {
   "cell_type": "code",
   "execution_count": 4,
   "id": "5dca7542-90ec-4e05-a403-2fcde096ddf8",
   "metadata": {
    "execution": {
     "iopub.execute_input": "2024-06-03T13:47:42.679064Z",
     "iopub.status.busy": "2024-06-03T13:47:42.678193Z",
     "iopub.status.idle": "2024-06-03T13:47:44.055688Z",
     "shell.execute_reply": "2024-06-03T13:47:44.054803Z",
     "shell.execute_reply.started": "2024-06-03T13:47:42.679025Z"
    },
    "tags": []
   },
   "outputs": [
    {
     "data": {
      "application/vnd.jupyter.widget-view+json": {
       "model_id": "cc908bbff90c445f844f693c30d49651",
       "version_major": 2,
       "version_minor": 0
      },
      "text/plain": [
       "  0%|          | 0/24 [00:00<?, ?it/s]"
      ]
     },
     "metadata": {},
     "output_type": "display_data"
    },
    {
     "data": {
      "application/vnd.jupyter.widget-view+json": {
       "model_id": "36d84ffdbef2480fa0215d1b765991e1",
       "version_major": 2,
       "version_minor": 0
      },
      "text/plain": [
       "  0%|          | 0/24 [00:00<?, ?it/s]"
      ]
     },
     "metadata": {},
     "output_type": "display_data"
    },
    {
     "data": {
      "application/vnd.jupyter.widget-view+json": {
       "model_id": "7f36226cd8e24e4793b8a0739900cb1e",
       "version_major": 2,
       "version_minor": 0
      },
      "text/plain": [
       "  0%|          | 0/24 [00:00<?, ?it/s]"
      ]
     },
     "metadata": {},
     "output_type": "display_data"
    },
    {
     "data": {
      "application/vnd.jupyter.widget-view+json": {
       "model_id": "5d5f787a03f847e6a023a60f00f8f5ee",
       "version_major": 2,
       "version_minor": 0
      },
      "text/plain": [
       "  0%|          | 0/24 [00:00<?, ?it/s]"
      ]
     },
     "metadata": {},
     "output_type": "display_data"
    },
    {
     "data": {
      "application/vnd.jupyter.widget-view+json": {
       "model_id": "b0e8c3e0eb2441019f5b6b73978c187e",
       "version_major": 2,
       "version_minor": 0
      },
      "text/plain": [
       "  0%|          | 0/24 [00:00<?, ?it/s]"
      ]
     },
     "metadata": {},
     "output_type": "display_data"
    }
   ],
   "source": [
    "train_dataset = HandGestureDataset(root=PATH, signers_list=SIGNERS, train=True, load_to_ram=False)"
   ]
  },
  {
   "cell_type": "code",
   "execution_count": 4,
   "id": "a25ba20c-6f59-4463-8c39-e1d3a9a88e67",
   "metadata": {
    "execution": {
     "iopub.execute_input": "2024-06-03T13:23:13.116366Z",
     "iopub.status.busy": "2024-06-03T13:23:13.115100Z",
     "iopub.status.idle": "2024-06-03T13:23:13.167328Z",
     "shell.execute_reply": "2024-06-03T13:23:13.166520Z",
     "shell.execute_reply.started": "2024-06-03T13:23:13.116326Z"
    },
    "tags": []
   },
   "outputs": [],
   "source": [
    "image, label = train_dataset[10_001]"
   ]
  },
  {
   "cell_type": "code",
   "execution_count": 5,
   "id": "69a9f42a-87c6-4344-89ff-5c18c8e4815d",
   "metadata": {
    "execution": {
     "iopub.execute_input": "2024-06-03T13:23:13.169504Z",
     "iopub.status.busy": "2024-06-03T13:23:13.168313Z",
     "iopub.status.idle": "2024-06-03T13:23:13.205482Z",
     "shell.execute_reply": "2024-06-03T13:23:13.204494Z",
     "shell.execute_reply.started": "2024-06-03T13:23:13.169464Z"
    },
    "tags": []
   },
   "outputs": [
    {
     "data": {
      "image/png": "[encoded data removed]",
      "text/plain": [
       "<PIL.Image.Image image mode=RGB size=87x134>"
      ]
     },
     "execution_count": 5,
     "metadata": {},
     "output_type": "execute_result"
    }
   ],
   "source": [
    "image"
   ]
  },
  {
   "cell_type": "markdown",
   "id": "564c9217-90c5-41f3-95f1-ef60928800ce",
   "metadata": {},
   "source": [
    "### Add augmentation"
   ]
  },
  {
   "cell_type": "code",
   "execution_count": 5,
   "id": "32464bfb-32de-4812-b05f-b1174d832200",
   "metadata": {
    "execution": {
     "iopub.execute_input": "2024-06-03T13:47:50.821299Z",
     "iopub.status.busy": "2024-06-03T13:47:50.820132Z",
     "iopub.status.idle": "2024-06-03T13:47:50.849440Z",
     "shell.execute_reply": "2024-06-03T13:47:50.848616Z",
     "shell.execute_reply.started": "2024-06-03T13:47:50.821259Z"
    },
    "tags": []
   },
   "outputs": [],
   "source": [
    "normalize = T.Normalize(mean=[0.485, 0.456, 0.406], std=[0.229, 0.224, 0.225])\n",
    "\n",
    "train_transform = T.Compose([\n",
    "    T.RandomResizedCrop(224, scale=(0.5, 1.0)),\n",
    "    T.RandomHorizontalFlip(),\n",
    "    T.ToTensor(),\n",
    "    normalize,\n",
    "])\n",
    "\n",
    "test_transform = T.Compose([\n",
    "    T.Resize(256),\n",
    "    T.CenterCrop(200),\n",
    "    T.ToTensor(),\n",
    "    normalize,\n",
    "])"
   ]
  },
  {
   "cell_type": "code",
   "execution_count": 6,
   "id": "50d9d56d-856c-4d5f-a494-cfd07b4d8786",
   "metadata": {
    "execution": {
     "iopub.execute_input": "2024-06-03T13:47:52.665619Z",
     "iopub.status.busy": "2024-06-03T13:47:52.664634Z",
     "iopub.status.idle": "2024-06-03T13:52:15.608329Z",
     "shell.execute_reply": "2024-06-03T13:52:15.607414Z",
     "shell.execute_reply.started": "2024-06-03T13:47:52.665583Z"
    },
    "tags": []
   },
   "outputs": [
    {
     "data": {
      "application/vnd.jupyter.widget-view+json": {
       "model_id": "379160570dd5439ca4e069b4815ffb34",
       "version_major": 2,
       "version_minor": 0
      },
      "text/plain": [
       "  0%|          | 0/24 [00:00<?, ?it/s]"
      ]
     },
     "metadata": {},
     "output_type": "display_data"
    },
    {
     "data": {
      "application/vnd.jupyter.widget-view+json": {
       "model_id": "7f8ef784fcd5417093196b0ee801be63",
       "version_major": 2,
       "version_minor": 0
      },
      "text/plain": [
       "  0%|          | 0/24 [00:00<?, ?it/s]"
      ]
     },
     "metadata": {},
     "output_type": "display_data"
    },
    {
     "data": {
      "application/vnd.jupyter.widget-view+json": {
       "model_id": "87dd6fc2c5294b9497a3504bafdde624",
       "version_major": 2,
       "version_minor": 0
      },
      "text/plain": [
       "  0%|          | 0/24 [00:00<?, ?it/s]"
      ]
     },
     "metadata": {},
     "output_type": "display_data"
    },
    {
     "data": {
      "application/vnd.jupyter.widget-view+json": {
       "model_id": "88a8a1fc409c4f009a936da8ca6b4af5",
       "version_major": 2,
       "version_minor": 0
      },
      "text/plain": [
       "  0%|          | 0/24 [00:00<?, ?it/s]"
      ]
     },
     "metadata": {},
     "output_type": "display_data"
    },
    {
     "data": {
      "application/vnd.jupyter.widget-view+json": {
       "model_id": "40c7233501db40a7a994e51a47ad5d25",
       "version_major": 2,
       "version_minor": 0
      },
      "text/plain": [
       "  0%|          | 0/24 [00:00<?, ?it/s]"
      ]
     },
     "metadata": {},
     "output_type": "display_data"
    },
    {
     "data": {
      "application/vnd.jupyter.widget-view+json": {
       "model_id": "51e1b5017ce74bafa8f14ebed8a54112",
       "version_major": 2,
       "version_minor": 0
      },
      "text/plain": [
       "  0%|          | 0/24 [00:00<?, ?it/s]"
      ]
     },
     "metadata": {},
     "output_type": "display_data"
    },
    {
     "data": {
      "application/vnd.jupyter.widget-view+json": {
       "model_id": "f8f7ac8e80cc44e394a210cf9fda72ad",
       "version_major": 2,
       "version_minor": 0
      },
      "text/plain": [
       "  0%|          | 0/24 [00:00<?, ?it/s]"
      ]
     },
     "metadata": {},
     "output_type": "display_data"
    },
    {
     "data": {
      "application/vnd.jupyter.widget-view+json": {
       "model_id": "835edeac76c04906b07d764679d4e06d",
       "version_major": 2,
       "version_minor": 0
      },
      "text/plain": [
       "  0%|          | 0/24 [00:00<?, ?it/s]"
      ]
     },
     "metadata": {},
     "output_type": "display_data"
    },
    {
     "data": {
      "application/vnd.jupyter.widget-view+json": {
       "model_id": "5f6988aed74e4befa2e9a4c879ad9d4e",
       "version_major": 2,
       "version_minor": 0
      },
      "text/plain": [
       "  0%|          | 0/24 [00:00<?, ?it/s]"
      ]
     },
     "metadata": {},
     "output_type": "display_data"
    },
    {
     "data": {
      "application/vnd.jupyter.widget-view+json": {
       "model_id": "d1b54c77a8414f3ab2b5b9180e65b94a",
       "version_major": 2,
       "version_minor": 0
      },
      "text/plain": [
       "  0%|          | 0/24 [00:00<?, ?it/s]"
      ]
     },
     "metadata": {},
     "output_type": "display_data"
    }
   ],
   "source": [
    "train_dataset = HandGestureDataset(root=PATH, signers_list=SIGNERS, train=True, load_to_ram=True, transform=test_transform)\n",
    "test_dataset = HandGestureDataset(root=PATH, signers_list=SIGNERS, train=False, load_to_ram=True, transform=test_transform)"
   ]
  },
  {
   "cell_type": "code",
   "execution_count": 7,
   "id": "25043919-a243-44ba-b0d2-40504419645f",
   "metadata": {
    "execution": {
     "iopub.execute_input": "2024-06-03T13:52:24.322062Z",
     "iopub.status.busy": "2024-06-03T13:52:24.321466Z",
     "iopub.status.idle": "2024-06-03T13:52:24.354554Z",
     "shell.execute_reply": "2024-06-03T13:52:24.353736Z",
     "shell.execute_reply.started": "2024-06-03T13:52:24.322025Z"
    },
    "tags": []
   },
   "outputs": [],
   "source": [
    "train_loader = DataLoader(train_dataset, batch_size=32, shuffle=True, pin_memory=True, num_workers=4)\n",
    "test_loader = DataLoader(test_dataset, batch_size=32, shuffle=False, pin_memory=True, num_workers=4)"
   ]
  },
  {
   "cell_type": "markdown",
   "id": "5cfb9a1c-06c1-4d2d-b1c1-06649ee8dcbc",
   "metadata": {},
   "source": [
    "## Model"
   ]
  },
  {
   "cell_type": "code",
   "execution_count": 8,
   "id": "5bfee321-2ef2-4612-8f4c-c5ec4b076d8d",
   "metadata": {
    "execution": {
     "iopub.execute_input": "2024-06-03T13:52:26.772374Z",
     "iopub.status.busy": "2024-06-03T13:52:26.771136Z",
     "iopub.status.idle": "2024-06-03T13:52:26.992027Z",
     "shell.execute_reply": "2024-06-03T13:52:26.991204Z",
     "shell.execute_reply.started": "2024-06-03T13:52:26.772328Z"
    },
    "tags": []
   },
   "outputs": [],
   "source": [
    "import seaborn as sns\n",
    "import matplotlib.pyplot as plt\n",
    "from IPython.display import clear_output\n",
    "from tqdm.notebook import tqdm\n",
    "\n",
    "\n",
    "sns.set_style('whitegrid')\n",
    "plt.rcParams.update({'font.size': 15})\n",
    "\n",
    "\n",
    "def plot_losses(train_losses, test_losses, train_accuracies, test_accuracies):\n",
    "    clear_output()\n",
    "    fig, axs = plt.subplots(1, 2, figsize=(13, 4))\n",
    "    axs[0].plot(range(1, len(train_losses) + 1), train_losses, label='train')\n",
    "    axs[0].plot(range(1, len(test_losses) + 1), test_losses, label='test')\n",
    "    axs[0].set_ylabel('loss')\n",
    "\n",
    "    axs[1].plot(range(1, len(train_accuracies) + 1), train_accuracies, label='train')\n",
    "    axs[1].plot(range(1, len(test_accuracies) + 1), test_accuracies, label='test')\n",
    "    axs[1].set_ylabel('accuracy')\n",
    "\n",
    "    for ax in axs:\n",
    "        ax.set_xlabel('epoch')\n",
    "        ax.legend()\n",
    "\n",
    "    plt.show()"
   ]
  },
  {
   "cell_type": "code",
   "execution_count": 9,
   "id": "0307aee2-3c45-4dde-855b-f7cf01a54bd1",
   "metadata": {
    "execution": {
     "iopub.execute_input": "2024-06-03T13:52:30.575221Z",
     "iopub.status.busy": "2024-06-03T13:52:30.574212Z",
     "iopub.status.idle": "2024-06-03T13:52:30.634407Z",
     "shell.execute_reply": "2024-06-03T13:52:30.633527Z",
     "shell.execute_reply.started": "2024-06-03T13:52:30.575181Z"
    },
    "tags": []
   },
   "outputs": [],
   "source": [
    "def training_epoch(model, optimizer, criterion, train_loader, tqdm_desc):\n",
    "    train_loss, train_accuracy = 0.0, 0.0\n",
    "    model.train()\n",
    "    for images, labels in tqdm(train_loader, desc=tqdm_desc):\n",
    "        images = images.to(device)  # images: batch_size x num_channels x height x width\n",
    "        labels = labels.to(device)  # labels: batch_size\n",
    "\n",
    "        optimizer.zero_grad()\n",
    "        logits = model(images)  # logits: batch_size x num_classes\n",
    "        loss = criterion(logits, labels)\n",
    "        loss.backward()\n",
    "        optimizer.step()\n",
    "\n",
    "        train_loss += loss.item() * images.shape[0]\n",
    "        train_accuracy += (logits.argmax(dim=1) == labels).sum().item()\n",
    "    \n",
    "    train_loss /= len(train_loader.dataset)\n",
    "    train_accuracy /= len(train_loader.dataset)\n",
    "    return train_loss, train_accuracy\n",
    "\n",
    "\n",
    "@torch.no_grad()\n",
    "def validation_epoch(model, criterion, test_loader, tqdm_desc):\n",
    "    test_loss, test_accuracy = 0.0, 0.0\n",
    "    model.eval()\n",
    "    for images, labels in tqdm(test_loader, desc=tqdm_desc):\n",
    "        images = images.to(device)  # images: batch_size x num_channels x height x width\n",
    "        labels = labels.to(device)  # labels: batch_size\n",
    "        logits = model(images)  # logits: batch_size x num_classes\n",
    "        loss = criterion(logits, labels)\n",
    "\n",
    "        test_loss += loss.item() * images.shape[0]\n",
    "        test_accuracy += (logits.argmax(dim=1) == labels).sum().item()\n",
    "\n",
    "    test_loss /= len(test_loader.dataset)\n",
    "    test_accuracy /= len(test_loader.dataset)\n",
    "    return test_loss, test_accuracy\n",
    "\n",
    "    \n",
    "def train(model, optimizer, scheduler, criterion, train_loader, test_loader, num_epochs):\n",
    "    train_losses, train_accuracies = [], []\n",
    "    test_losses, test_accuracies = [], []\n",
    "\n",
    "    for epoch in range(1, num_epochs + 1):\n",
    "        train_loss, train_accuracy = training_epoch(\n",
    "            model, optimizer, criterion, train_loader,\n",
    "            tqdm_desc=f'Training {epoch}/{num_epochs}'\n",
    "        )\n",
    "        test_loss, test_accuracy = validation_epoch(\n",
    "            model, criterion, test_loader,\n",
    "            tqdm_desc=f'Validating {epoch}/{num_epochs}'\n",
    "        )\n",
    "\n",
    "        if scheduler is not None:\n",
    "            scheduler.step()\n",
    "\n",
    "        train_losses += [train_loss]\n",
    "        train_accuracies += [train_accuracy]\n",
    "        test_losses += [test_loss]\n",
    "        test_accuracies += [test_accuracy]\n",
    "        plot_losses(train_losses, test_losses, train_accuracies, test_accuracies)\n",
    "\n",
    "    return train_losses, test_losses, train_accuracies, test_accuracies"
   ]
  },
  {
   "cell_type": "code",
   "execution_count": 10,
   "id": "77e054b5-e064-46e1-b633-8a1844cfa1f2",
   "metadata": {
    "execution": {
     "iopub.execute_input": "2024-06-03T13:52:32.307593Z",
     "iopub.status.busy": "2024-06-03T13:52:32.306601Z",
     "iopub.status.idle": "2024-06-03T13:52:32.510655Z",
     "shell.execute_reply": "2024-06-03T13:52:32.509728Z",
     "shell.execute_reply.started": "2024-06-03T13:52:32.307555Z"
    },
    "tags": []
   },
   "outputs": [
    {
     "data": {
      "text/plain": [
       "device(type='cuda', index=0)"
      ]
     },
     "execution_count": 10,
     "metadata": {},
     "output_type": "execute_result"
    }
   ],
   "source": [
    "device = torch.device('cuda:0' if torch.cuda.is_available() else 'cpu')\n",
    "device"
   ]
  },
  {
   "cell_type": "markdown",
   "id": "675ff3d6-5f73-45e0-8dff-b0e5642b53aa",
   "metadata": {},
   "source": [
    "## Check different models"
   ]
  },
  {
   "cell_type": "code",
   "execution_count": 30,
   "id": "b73d4bd2-ed88-4181-b627-c31baaea8f8e",
   "metadata": {
    "execution": {
     "iopub.execute_input": "2024-06-03T14:21:44.307116Z",
     "iopub.status.busy": "2024-06-03T14:21:44.306021Z",
     "iopub.status.idle": "2024-06-03T14:21:44.343975Z",
     "shell.execute_reply": "2024-06-03T14:21:44.343149Z",
     "shell.execute_reply.started": "2024-06-03T14:21:44.307076Z"
    },
    "tags": []
   },
   "outputs": [],
   "source": [
    "class ASL_First_CNN(nn.Module):\n",
    "    def __init__(self):\n",
    "        super().__init__()\n",
    "        self.conv = nn.Sequential(\n",
    "            # 3*200*200 --> 64*100*100\n",
    "            nn.Conv2d(3, 64, kernel_size=5, stride=2, padding=2),\n",
    "            nn.BatchNorm2d(64),\n",
    "            nn.ReLU(inplace=True),\n",
    "            # 64*100*100 --> 64*50*50\n",
    "            nn.MaxPool2d(kernel_size=2),\n",
    "            \n",
    "            # 64*50*50 --> 64*25*25\n",
    "            nn.Conv2d(64, 64, kernel_size=3, stride=2, padding=1),\n",
    "            nn.BatchNorm2d(64),\n",
    "            nn.ReLU(inplace=True),\n",
    "            \n",
    "            # 64*25*25 --> 128*13*13\n",
    "            nn.Conv2d(64, 128, kernel_size=3, stride=2, padding=1),\n",
    "            nn.BatchNorm2d(128),\n",
    "            nn.ReLU(inplace=True),\n",
    "            # 128*13*13 --> 128*3*3\n",
    "            nn.AdaptiveAvgPool2d((3,3))\n",
    "        )\n",
    "            \n",
    "        self.fc = nn.Sequential(\n",
    "            nn.Flatten(),\n",
    "            \n",
    "            nn.Dropout(0.4),\n",
    "            nn.Linear(128*3*3, 1024),\n",
    "            nn.ReLU(inplace=True),\n",
    "            \n",
    "            nn.Dropout(0.3),\n",
    "            nn.Linear(1024, 512),\n",
    "            nn.ReLU(inplace=True),\n",
    "            \n",
    "            nn.Dropout(0.2),\n",
    "            nn.Linear(512, 24),\n",
    "#             nn.Softmax()\n",
    "        )\n",
    "        \n",
    "    def forward(self, x):\n",
    "        x = self.conv(x)\n",
    "        x = self.fc(x)\n",
    "        return x\n",
    "\n",
    "# model = ASL_First_CNN().to(device)"
   ]
  },
  {
   "cell_type": "code",
   "execution_count": 31,
   "id": "28dbbda4-266c-4d14-b218-3d568b12d8c9",
   "metadata": {
    "execution": {
     "iopub.execute_input": "2024-06-03T14:21:51.507549Z",
     "iopub.status.busy": "2024-06-03T14:21:51.506432Z",
     "iopub.status.idle": "2024-06-03T14:21:51.542422Z",
     "shell.execute_reply": "2024-06-03T14:21:51.541620Z",
     "shell.execute_reply.started": "2024-06-03T14:21:51.507499Z"
    },
    "tags": []
   },
   "outputs": [],
   "source": [
    "from torchvision import models\n",
    "NUM_EPOCHS = 20\n",
    "\n",
    "model = ASL_First_CNN().to(device)\n",
    "# optimizer = torch.optim.SGD(model.parameters(), lr=1e-2, momentum=0.9)\n",
    "# optimizer = torch.optim.Adam(model.parameters(), lr=0.001)\n",
    "optimizer = torch.optim.Adam(model.parameters(), lr=0.001)\n",
    "# scheduler = torch.optim.lr_scheduler.CosineAnnealingLR(optimizer, T_max=NUM_EPOCHS)\n",
    "criterion = nn.CrossEntropyLoss()"
   ]
  },
  {
   "cell_type": "code",
   "execution_count": 47,
   "id": "6d8d3a37-9710-4360-b452-baa08487ca39",
   "metadata": {
    "execution": {
     "iopub.execute_input": "2024-06-03T15:18:04.591374Z",
     "iopub.status.busy": "2024-06-03T15:18:04.590132Z",
     "iopub.status.idle": "2024-06-03T15:18:05.009992Z",
     "shell.execute_reply": "2024-06-03T15:18:05.008935Z",
     "shell.execute_reply.started": "2024-06-03T15:18:04.591331Z"
    },
    "tags": []
   },
   "outputs": [],
   "source": [
    "# from torchvision.models import mobilenet_v2, MobileNet_V2_Weights\n",
    "\n",
    "# NUM_EPOCHS = 10\n",
    "# model = mobilenet_v2(num_classes=len(train_dataset.classes)).to(device)\n",
    "# optimizer = torch.optim.SGD(model.parameters(), lr=0.01, momentum=0.9)\n",
    "# criterion = torch.nn.CrossEntropyLoss()\n",
    "# scheduler = torch.optim.lr_scheduler.CosineAnnealingLR(optimizer, num_epochs)"
   ]
  },
  {
   "cell_type": "code",
   "execution_count": 46,
   "id": "b3ca54e6-a636-42a5-9e5c-4f5897d04b72",
   "metadata": {
    "execution": {
     "iopub.execute_input": "2024-06-03T15:17:44.737492Z",
     "iopub.status.busy": "2024-06-03T15:17:44.736361Z",
     "iopub.status.idle": "2024-06-03T15:17:44.817353Z",
     "shell.execute_reply": "2024-06-03T15:17:44.816342Z",
     "shell.execute_reply.started": "2024-06-03T15:17:44.737450Z"
    },
    "tags": []
   },
   "outputs": [
    {
     "data": {
      "text/plain": [
       "2254616"
      ]
     },
     "execution_count": 46,
     "metadata": {},
     "output_type": "execute_result"
    }
   ],
   "source": [
    "# sum(param.numel() for param in model.parameters())"
   ]
  },
  {
   "cell_type": "code",
   "execution_count": 48,
   "id": "46f9c943-af2a-40fb-9fa5-3bf56b9a60ee",
   "metadata": {
    "execution": {
     "iopub.execute_input": "2024-06-03T15:18:06.198661Z",
     "iopub.status.busy": "2024-06-03T15:18:06.197881Z",
     "iopub.status.idle": "2024-06-03T16:14:16.572073Z",
     "shell.execute_reply": "2024-06-03T16:14:16.571067Z",
     "shell.execute_reply.started": "2024-06-03T15:18:06.198618Z"
    },
    "tags": []
   },
   "outputs": [
    {
     "data": {
      "image/png": "[encoded data removed]",
      "text/plain": [
       "<Figure size 1300x400 with 2 Axes>"
      ]
     },
     "metadata": {},
     "output_type": "display_data"
    }
   ],
   "source": [
    "train_losses, test_losses, train_accuracies, test_accuracies = train(\n",
    "    model, optimizer, None, criterion, train_loader, test_loader, NUM_EPOCHS\n",
    ")"
   ]
  },
  {
   "cell_type": "code",
   "execution_count": 49,
   "id": "669b54a5-522d-4869-9060-513e9fa9f425",
   "metadata": {
    "execution": {
     "iopub.execute_input": "2024-06-03T16:14:16.574894Z",
     "iopub.status.busy": "2024-06-03T16:14:16.573752Z",
     "iopub.status.idle": "2024-06-03T16:14:16.708604Z",
     "shell.execute_reply": "2024-06-03T16:14:16.707637Z",
     "shell.execute_reply.started": "2024-06-03T16:14:16.574848Z"
    },
    "tags": []
   },
   "outputs": [],
   "source": [
    "torch.save(model.state_dict(), 'asl_first_cnn.pth')"
   ]
  },
  {
   "cell_type": "code",
   "execution_count": 34,
   "id": "888c77f5-beca-4c78-99be-7c691ddd6176",
   "metadata": {
    "execution": {
     "iopub.execute_input": "2024-06-03T15:06:34.272517Z",
     "iopub.status.busy": "2024-06-03T15:06:34.271357Z",
     "iopub.status.idle": "2024-06-03T15:06:34.305529Z",
     "shell.execute_reply": "2024-06-03T15:06:34.304725Z",
     "shell.execute_reply.started": "2024-06-03T15:06:34.272473Z"
    },
    "tags": []
   },
   "outputs": [
    {
     "data": {
      "text/plain": [
       "ASL_First_CNN(\n",
       "  (conv): Sequential(\n",
       "    (0): Conv2d(3, 64, kernel_size=(5, 5), stride=(2, 2), padding=(2, 2))\n",
       "    (1): BatchNorm2d(64, eps=1e-05, momentum=0.1, affine=True, track_running_stats=True)\n",
       "    (2): ReLU(inplace=True)\n",
       "    (3): MaxPool2d(kernel_size=2, stride=2, padding=0, dilation=1, ceil_mode=False)\n",
       "    (4): Conv2d(64, 64, kernel_size=(3, 3), stride=(2, 2), padding=(1, 1))\n",
       "    (5): BatchNorm2d(64, eps=1e-05, momentum=0.1, affine=True, track_running_stats=True)\n",
       "    (6): ReLU(inplace=True)\n",
       "    (7): Conv2d(64, 128, kernel_size=(3, 3), stride=(2, 2), padding=(1, 1))\n",
       "    (8): BatchNorm2d(128, eps=1e-05, momentum=0.1, affine=True, track_running_stats=True)\n",
       "    (9): ReLU(inplace=True)\n",
       "    (10): AdaptiveAvgPool2d(output_size=(3, 3))\n",
       "  )\n",
       "  (fc): Sequential(\n",
       "    (0): Flatten(start_dim=1, end_dim=-1)\n",
       "    (1): Dropout(p=0.4, inplace=False)\n",
       "    (2): Linear(in_features=1152, out_features=1024, bias=True)\n",
       "    (3): ReLU(inplace=True)\n",
       "    (4): Dropout(p=0.3, inplace=False)\n",
       "    (5): Linear(in_features=1024, out_features=512, bias=True)\n",
       "    (6): ReLU(inplace=True)\n",
       "    (7): Dropout(p=0.2, inplace=False)\n",
       "    (8): Linear(in_features=512, out_features=24, bias=True)\n",
       "  )\n",
       ")"
      ]
     },
     "execution_count": 34,
     "metadata": {},
     "output_type": "execute_result"
    }
   ],
   "source": [
    "model.load_state_dict(torch.load('asl_first_cnn.pth'))\n",
    "model.eval()"
   ]
  }
 ],
 "metadata": {
  "kernelspec": {
   "display_name": "DataSphere Kernel",
   "language": "python",
   "name": "python3"
  },
  "language_info": {
   "codemirror_mode": {
    "name": "ipython",
    "version": 3
   },
   "file_extension": ".py",
   "mimetype": "text/x-python",
   "name": "python",
   "nbconvert_exporter": "python",
   "pygments_lexer": "ipython3",
   "version": "3.10.12"
  }
 },
 "nbformat": 4,
 "nbformat_minor": 5
}
